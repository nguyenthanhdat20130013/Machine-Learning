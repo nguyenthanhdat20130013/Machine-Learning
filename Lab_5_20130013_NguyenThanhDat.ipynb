{
  "nbformat": 4,
  "nbformat_minor": 0,
  "metadata": {
    "colab": {
      "provenance": [],
      "include_colab_link": true
    },
    "kernelspec": {
      "name": "python3",
      "display_name": "Python 3"
    },
    "language_info": {
      "name": "python"
    }
  },
  "cells": [
    {
      "cell_type": "markdown",
      "metadata": {
        "id": "view-in-github",
        "colab_type": "text"
      },
      "source": [
        "<a href=\"https://colab.research.google.com/github/nguyenthanhdat20130013/Machine-Learning/blob/main/Lab_5_20130013_NguyenThanhDat.ipynb\" target=\"_parent\"><img src=\"https://colab.research.google.com/assets/colab-badge.svg\" alt=\"Open In Colab\"/></a>"
      ]
    },
    {
      "cell_type": "markdown",
      "source": [
        "# This lab is to deal with **SVM** to classification tasks and compare its performance with other competitive algorithms. In general, **SVM** is one of the most popular and widely used supervised machine learning algorithms.\n",
        "\n",
        "*   **Deadline: 23:59, 17/03/2023**\n",
        "\n"
      ],
      "metadata": {
        "id": "LMzehe0sy5wr"
      }
    },
    {
      "cell_type": "markdown",
      "source": [
        "# Import libraries"
      ],
      "metadata": {
        "id": "H4nJmxp9zGX4"
      }
    },
    {
      "cell_type": "code",
      "execution_count": 51,
      "metadata": {
        "id": "DoVWQ8AEyc-C"
      },
      "outputs": [],
      "source": [
        "from sklearn import datasets\n",
        "import numpy as np\n",
        "import pandas as pd\n",
        "from sklearn.model_selection import train_test_split\n",
        "from sklearn import svm\n",
        "from sklearn.metrics import accuracy_score\n",
        "from sklearn.metrics import precision_score\n",
        "from sklearn.metrics import recall_score\n",
        "from sklearn.metrics import f1_score\n",
        "from sklearn.tree import DecisionTreeClassifier\n",
        "from sklearn.neighbors import KNeighborsClassifier\n",
        "from sklearn.linear_model import LogisticRegression\n",
        "from prettytable import PrettyTable\n",
        "from keras.datasets import mnist\n",
        "from sklearn.metrics import classification_report, confusion_matrix\n",
        "\n"
      ]
    },
    {
      "cell_type": "code",
      "source": [
        "from google.colab import drive\n",
        "drive.mount('/content/gdrive')\n",
        "%cd '/content/gdrive/MyDrive/ML'"
      ],
      "metadata": {
        "colab": {
          "base_uri": "https://localhost:8080/"
        },
        "id": "iW9M5ejq322x",
        "outputId": "351b3fd8-2a37-476a-f4b9-99253d5b6d0e"
      },
      "execution_count": 33,
      "outputs": [
        {
          "output_type": "stream",
          "name": "stdout",
          "text": [
            "Mounted at /content/gdrive\n",
            "/content/gdrive/MyDrive/ML\n"
          ]
        }
      ]
    },
    {
      "cell_type": "code",
      "source": [
        "!unzip creditcard.csv.zip"
      ],
      "metadata": {
        "colab": {
          "base_uri": "https://localhost:8080/"
        },
        "id": "DXlukXA84HQ_",
        "outputId": "a980f3cb-c1c6-4c44-a61d-69008d85433a"
      },
      "execution_count": 36,
      "outputs": [
        {
          "output_type": "stream",
          "name": "stdout",
          "text": [
            "Archive:  creditcard.csv.zip\n",
            "  inflating: creditcard.csv          \n"
          ]
        }
      ]
    },
    {
      "cell_type": "markdown",
      "source": [
        "#Task 1. \n",
        "For breast cancer dataset (https://tinyurl.com/3vme8hr3) which could be loaded from datasets in sklearn as follows:\n",
        "\n",
        "```\n",
        "#Import scikit-learn dataset library\n",
        "from sklearn import datasets\n",
        "\n",
        "#Load dataset\n",
        "cancer = datasets.load_breast_cancer()\n",
        "```\n",
        "\n",
        "*   1.1.\tApply SVM algorithm to above dataset using linear kernel.\n",
        "*   1.2.\tCompare the obtained results with other competitive algorithms (Logistic Regression, Decision Tree, kNN) based on metrics: accuracy, precision, recall, f1 measures.\n",
        "\n"
      ],
      "metadata": {
        "id": "kNv07ARGzOUm"
      }
    },
    {
      "cell_type": "code",
      "source": [
        "# Load dataset\n",
        "cancer = datasets.load_breast_cancer()\n",
        "X = cancer['data']\n",
        "y = cancer['target']\n",
        "X_train, X_test, y_train, y_test = train_test_split(X, y, test_size = 0.3, random_state = 1)\n",
        "#SVM algorithm to above dataset using linear kernel.\n",
        "clf = svm.SVC(kernel='linear')\n",
        "clf.fit(X_train, y_train)\n",
        "y_pred = clf.predict(X_test)\n",
        "#algorithms\n",
        "accuracy_stsk1 = accuracy_score(y_test, y_pred)\n",
        "precision_stsk1 = precision_score(y_test, y_pred, average=\"macro\")\n",
        "recall_stsk1 = recall_score(y_test, y_pred, average=\"macro\")\n",
        "f1_stsk1 = f1_score(y_test, y_pred, average=\"macro\")\n",
        "print(\"Task 1.1: SVM algorithm\")\n",
        "print('Accuracy score: ', accuracy_stsk1)\n",
        "print('Precision score: ', precision_stsk1)\n",
        "print('Recall score: ', recall_stsk1)\n",
        "print('f1 score: ', f1_stsk1)\n",
        "\n",
        "#Task 1.2\n",
        "# Define the Decision Tree classifier\n",
        "dt = DecisionTreeClassifier(random_state=0)\n",
        "y_predd = dt.fit(X_train, y_train).predict(X_test)\n",
        "\n",
        "accuracy_t1 = accuracy_score(y_test, y_predd)\n",
        "precision_t1 = precision_score(y_test, y_predd)\n",
        "recall_t1 = recall_score(y_test, y_predd)\n",
        "f1_t1 = f1_score(y_test, y_predd)\n",
        "\n",
        "# Define the kNN classifier\n",
        "knn = KNeighborsClassifier(n_neighbors=5)\n",
        "y_predk = knn.fit(X_train, y_train).predict(X_test)\n",
        "\n",
        "accuracy_k1 = accuracy_score(y_test, y_predk)\n",
        "precision_k1 = precision_score(y_test, y_predk)\n",
        "recall_k1 = recall_score(y_test, y_predk)\n",
        "f1_k1 = f1_score(y_test, y_predk)\n",
        "\n",
        "# Define the Logistic Regression classifier\n",
        "lr = LogisticRegression(random_state=0)\n",
        "y_predl = lr.fit(X_train, y_train).predict(X_test)\n",
        "\n",
        "accuracy_lr1 = accuracy_score(y_test, y_predl)\n",
        "precision_lr1 = precision_score(y_test, y_predl)\n",
        "recall_lr1 = recall_score(y_test, y_predl)\n",
        "f1_lr1 = f1_score(y_test, y_predl)\n",
        "\n",
        "#print(confusion_matrix(y_test,y_pred))\n",
        "#print(classification_report(y_test,y_pred))"
      ],
      "metadata": {
        "id": "sOsg77IBzEyo",
        "colab": {
          "base_uri": "https://localhost:8080/"
        },
        "outputId": "eab47e09-5d65-4268-c92d-fc20610ff621"
      },
      "execution_count": 31,
      "outputs": [
        {
          "output_type": "stream",
          "name": "stdout",
          "text": [
            "Task 1.1: SVM algorithm\n",
            "Accuracy score:  0.9532163742690059\n",
            "Precision score:  0.9562651331719128\n",
            "Recall score:  0.9431216931216931\n",
            "f1 score:  0.9490312965722802\n"
          ]
        },
        {
          "output_type": "stream",
          "name": "stderr",
          "text": [
            "/usr/local/lib/python3.9/dist-packages/sklearn/linear_model/_logistic.py:458: ConvergenceWarning: lbfgs failed to converge (status=1):\n",
            "STOP: TOTAL NO. of ITERATIONS REACHED LIMIT.\n",
            "\n",
            "Increase the number of iterations (max_iter) or scale the data as shown in:\n",
            "    https://scikit-learn.org/stable/modules/preprocessing.html\n",
            "Please also refer to the documentation for alternative solver options:\n",
            "    https://scikit-learn.org/stable/modules/linear_model.html#logistic-regression\n",
            "  n_iter_i = _check_optimize_result(\n"
          ]
        }
      ]
    },
    {
      "cell_type": "code",
      "source": [
        "t1 = PrettyTable(['Algorithms','Accuracy', 'Precision', 'Recall', 'f1 measures'])\n",
        "t1.add_row(['SVM',accuracy_stsk1, precision_stsk1, recall_stsk1, f1_stsk1])\n",
        "t1.add_row(['Logistic Regression',accuracy_lr1, precision_lr1, recall_lr1, f1_lr1])\n",
        "t1.add_row(['Decision Tree',accuracy_t1, precision_t1, recall_t1, f1_t1])\n",
        "t1.add_row(['kNN',accuracy_k1, precision_k1, recall_k1, f1_k1])\n",
        "print('Task 1.2')\n",
        "print(t1)"
      ],
      "metadata": {
        "colab": {
          "base_uri": "https://localhost:8080/"
        },
        "id": "skQSnPqHsGK1",
        "outputId": "c073d549-b6e3-402a-9df5-e6ff9eafb0c4"
      },
      "execution_count": null,
      "outputs": [
        {
          "output_type": "stream",
          "name": "stdout",
          "text": [
            "+---------------------+--------------------+--------------------+--------------------+--------------------+\n",
            "|      Algorithms     |      Accuracy      |     Precision      |       Recall       |    f1 measures     |\n",
            "+---------------------+--------------------+--------------------+--------------------+--------------------+\n",
            "|         SVM         | 0.9532163742690059 | 0.9562651331719128 | 0.9431216931216931 | 0.9490312965722802 |\n",
            "| Logistic Regression | 0.9473684210526315 | 0.9459459459459459 | 0.9722222222222222 | 0.9589041095890412 |\n",
            "|    Decision Tree    | 0.9473684210526315 | 0.9459459459459459 | 0.9722222222222222 | 0.9589041095890412 |\n",
            "|         kNN         | 0.9298245614035088 | 0.9363636363636364 | 0.9537037037037037 | 0.944954128440367  |\n",
            "+---------------------+--------------------+--------------------+--------------------+--------------------+\n"
          ]
        }
      ]
    },
    {
      "cell_type": "markdown",
      "source": [
        "#Task 2. \n",
        "\n",
        "*   1.1.\tPerform SVM algorithm to **Iris dataset** using **linear kernel**.\n",
        "*   1.2.\tCompare the obtained results in 1.1 with SVM using other kernels (**Polynomial Kernel, Gaussian Kernel, Sigmoid Kernel, Radial Basis Function Kernel**). Some metrics could be used: accuracy, precision, recall, f1 measures\n",
        "\n",
        "\n",
        "\n"
      ],
      "metadata": {
        "id": "S43IoUT-0OQq"
      }
    },
    {
      "cell_type": "code",
      "source": [
        "task2 = datasets.load_iris()\n",
        "\n",
        "X = task2['data']\n",
        "y = task2['target']\n",
        "X_train, X_test, y_train, y_test = train_test_split(X, y, test_size = 0.3, random_state = 1)\n",
        "#Linear Kernel.\n",
        "clf = svm.SVC(kernel='linear')\n",
        "clf.fit(X_train, y_train)\n",
        "y_pred = clf.predict(X_test)\n",
        "#algorithms\n",
        "accuracy_tsk2 = accuracy_score(y_test, y_pred)\n",
        "precision_tsk2 = precision_score(y_test, y_pred, average='weighted')\n",
        "recall_tsk2 = recall_score(y_test, y_pred, average='weighted')\n",
        "f1_tsk2 = f1_score(y_test, y_pred, average='weighted')\n",
        "print(\"Task 2.1: SVM algorithm linear kernel\")\n",
        "print('Accuracy score: ', accuracy_tsk2)\n",
        "print('Precision score: ', precision_tsk2)\n",
        "print('Recall score: ', recall_tsk2)\n",
        "print('f1 score: ', f1_tsk2)\n",
        "\n",
        "#Polynomial Kernel\n",
        "svm_poly = svm.SVC(kernel='poly')\n",
        "svm_poly.fit(X_train, y_train)\n",
        "y_svm_poly_pred = svm_poly.predict(X_test)\n",
        "\n",
        "#Gaussian Kernel\n",
        "svm_rbf = svm.SVC(kernel='rbf')\n",
        "svm_rbf.fit(X_train, y_train)\n",
        "y_svm_rbf_pred = svm_rbf.predict(X_test)\n",
        "\n",
        "#Sigmoid Kernel\n",
        "svm_sigmoid = svm.SVC(kernel='sigmoid')\n",
        "svm_sigmoid.fit(X_train, y_train)\n",
        "y_svm_sigmoid_pred = svm_sigmoid.predict(X_test)\n",
        "\n",
        "#Radial Basis Function Kernel\n",
        "svm_rbf = svm.SVC(kernel='rbf')\n",
        "svm_rbf.fit(X_train, y_train)\n",
        "y_svm_rbf_pred = svm_rbf.predict(X_test)\n",
        "\n",
        "#print(confusion_matrix(y_test,y_pred))\n",
        "#print(classification_report(y_test,y_pred))"
      ],
      "metadata": {
        "id": "_xhPpF5b033h",
        "colab": {
          "base_uri": "https://localhost:8080/"
        },
        "outputId": "24a669ff-8ca6-4c29-aa49-f046f419d621"
      },
      "execution_count": 32,
      "outputs": [
        {
          "output_type": "stream",
          "name": "stdout",
          "text": [
            "Task 2.1: SVM algorithm linear kernel\n",
            "Accuracy score:  1.0\n",
            "Precision score:  1.0\n",
            "Recall score:  1.0\n",
            "f1 score:  1.0\n"
          ]
        }
      ]
    },
    {
      "cell_type": "code",
      "source": [
        "t2 = PrettyTable(['Other kernels','Accuracy', 'Precision', 'Recall', 'f1 measures'])\n",
        "t2.add_row(['Linear Kernel',round(accuracy_tsk2,4), round(precision_tsk2,4), round(recall_tsk2,4), round(f1_tsk2,4)])\n",
        "t2.add_row(['Polynomial Kernel',round(accuracy_score(y_test, y_svm_poly_pred),4), round(precision_score(y_test, y_svm_poly_pred, average='weighted'),4), round( recall_score(y_test, y_svm_poly_pred, average='weighted'),4), round(f1_score(y_test, y_svm_poly_pred, average='weighted'),4)])\n",
        "t2.add_row(['Gaussian Kernel',round(accuracy_score(y_test, y_svm_rbf_pred),4), round(precision_score(y_test, y_svm_rbf_pred, average='weighted'),4), round( recall_score(y_test, y_svm_rbf_pred, average='weighted'),4), round(f1_score(y_test, y_svm_rbf_pred, average='weighted'),4)])\n",
        "t2.add_row(['Sigmoid Kernel',round(accuracy_score(y_test, y_svm_sigmoid_pred),4), round(precision_score(y_test, y_svm_sigmoid_pred, average='weighted'),4), round( recall_score(y_test, y_svm_sigmoid_pred, average='weighted'),4), round(f1_score(y_test, y_svm_sigmoid_pred, average='weighted'),4)])\n",
        "t2.add_row(['Radial Basis Function Kernel',round(accuracy_score(y_test, y_svm_rbf_pred),4), round(precision_score(y_test, y_svm_rbf_pred, average='weighted'),4), round( recall_score(y_test, y_svm_rbf_pred, average='weighted'),4), round(f1_score(y_test, y_svm_rbf_pred, average='weighted'),4)])\n",
        "\n",
        "\n",
        "print(t2)"
      ],
      "metadata": {
        "colab": {
          "base_uri": "https://localhost:8080/"
        },
        "id": "LILJbXef1tMM",
        "outputId": "39be7fe3-4529-436a-adb7-24e6e6766b89"
      },
      "execution_count": 27,
      "outputs": [
        {
          "output_type": "stream",
          "name": "stdout",
          "text": [
            "+------------------------------+----------+-----------+--------+-------------+\n",
            "|        Other kernels         | Accuracy | Precision | Recall | f1 measures |\n",
            "+------------------------------+----------+-----------+--------+-------------+\n",
            "|        Linear Kernel         |   1.0    |    1.0    |  1.0   |     1.0     |\n",
            "|      Polynomial Kernel       |  0.9778  |   0.9794  | 0.9778 |    0.9779   |\n",
            "|       Gaussian Kernel        |  0.9778  |   0.9794  | 0.9778 |    0.9779   |\n",
            "|        Sigmoid Kernel        |  0.2889  |   0.0835  | 0.2889 |    0.1295   |\n",
            "| Radial Basis Function Kernel |  0.9778  |   0.9794  | 0.9778 |    0.9779   |\n",
            "+------------------------------+----------+-----------+--------+-------------+\n"
          ]
        },
        {
          "output_type": "stream",
          "name": "stderr",
          "text": [
            "/usr/local/lib/python3.9/dist-packages/sklearn/metrics/_classification.py:1344: UndefinedMetricWarning: Precision is ill-defined and being set to 0.0 in labels with no predicted samples. Use `zero_division` parameter to control this behavior.\n",
            "  _warn_prf(average, modifier, msg_start, len(result))\n"
          ]
        }
      ]
    },
    {
      "cell_type": "markdown",
      "source": [
        "#Task 3. \n",
        "Compare the performance of selected classification algorithms (Decision Tree, kNN, Logistic Regression) and SVM (using different kernels) with mnist dataset based on accuracy, precision, recall, f1 measures.\n"
      ],
      "metadata": {
        "id": "b52OPWPD2afi"
      }
    },
    {
      "cell_type": "code",
      "source": [
        "mnist = datasets.load_digits()\n",
        "X = mnist['data']\n",
        "y = mnist['target']\n",
        "X_train, X_test, y_train, y_test = train_test_split(X, y, test_size = 0.3, random_state = 1)\n",
        "\n",
        "#Decison tree\n",
        "dtc = DecisionTreeClassifier()\n",
        "dtc.fit(X_train, y_train)\n",
        "ydtc_pred = dtc.predict(X_test)\n",
        "\n",
        "#kNN\n",
        "knn = KNeighborsClassifier(n_neighbors=5)\n",
        "knn.fit(X_train, y_train)\n",
        "yknn_pred = knn.predict(X_test)\n",
        "\n",
        "#Logicstic\n",
        "lr = LogisticRegression(random_state=0)\n",
        "lr.fit(X_train, y_train)\n",
        "ylr_pred = lr.predict(X_test)\n",
        "\n",
        "# Create a SVM classifier with linear kernel\n",
        "svm_linear = svm.SVC(kernel='linear')\n",
        "svm_linear.fit(X_train, y_train)\n",
        "ylinear_pred = svm_linear.predict(X_test)\n",
        "\n",
        "# Create a SVM classifier with RBF kernel\n",
        "svm_rbf = svm.SVC(kernel='rbf')\n",
        "svm_rbf.fit(X_train, y_train)\n",
        "yrbf_pred = svm_rbf.predict(X_test)\n",
        "\n",
        "#\n",
        "t3 = PrettyTable(['Classification algorithms','Accuracy', 'Precision', 'Recall', 'f1 measures'])\n",
        "t3.add_row(['Decison tree',round(accuracy_score(y_test, ydtc_pred),4), round(precision_score(y_test, ydtc_pred, average='weighted'),4), round( recall_score(y_test, ydtc_pred, average='weighted'),4), round(f1_score(y_test, ydtc_pred, average='weighted'),4)])\n",
        "t3.add_row(['KNN Classifier',round(accuracy_score(y_test, yknn_pred),4), round(precision_score(y_test, yknn_pred, average='weighted'),4), round( recall_score(y_test, yknn_pred, average='weighted'),4), round(f1_score(y_test, yknn_pred, average='weighted'),4)])\n",
        "t3.add_row(['Logistic Regression Classifier',round(accuracy_score(y_test, ylr_pred),4), round(precision_score(y_test, ylr_pred, average='weighted'),4), round( recall_score(y_test, ylr_pred, average='weighted'),4), round(f1_score(y_test, ylr_pred, average='weighted'),4)])\n",
        "t3.add_row(['SVM Linear Kernel Classifier',round(accuracy_score(y_test, ylinear_pred),4), round(precision_score(y_test, ylinear_pred, average='weighted'),4), round( recall_score(y_test, ylinear_pred, average='weighted'),4), round(f1_score(y_test, ylinear_pred, average='weighted'),4)])\n",
        "t3.add_row(['SVM RBF Kernel Classifier',round(accuracy_score(y_test, yrbf_pred),4), round(precision_score(y_test, yrbf_pred, average='weighted'),4), round( recall_score(y_test, yrbf_pred, average='weighted'),4), round(f1_score(y_test, yrbf_pred, average='weighted'),4)])\n",
        "print(t3)"
      ],
      "metadata": {
        "colab": {
          "base_uri": "https://localhost:8080/"
        },
        "id": "I_O7rWwh5ySD",
        "outputId": "c5bbe799-6ff0-4a39-8907-3e1bc93961e9"
      },
      "execution_count": 21,
      "outputs": [
        {
          "output_type": "stream",
          "name": "stderr",
          "text": [
            "/usr/local/lib/python3.9/dist-packages/sklearn/linear_model/_logistic.py:458: ConvergenceWarning: lbfgs failed to converge (status=1):\n",
            "STOP: TOTAL NO. of ITERATIONS REACHED LIMIT.\n",
            "\n",
            "Increase the number of iterations (max_iter) or scale the data as shown in:\n",
            "    https://scikit-learn.org/stable/modules/preprocessing.html\n",
            "Please also refer to the documentation for alternative solver options:\n",
            "    https://scikit-learn.org/stable/modules/linear_model.html#logistic-regression\n",
            "  n_iter_i = _check_optimize_result(\n"
          ]
        },
        {
          "output_type": "stream",
          "name": "stdout",
          "text": [
            "+--------------------------------+----------+-----------+--------+-------------+\n",
            "|   Classification algorithms    | Accuracy | Precision | Recall | f1 measures |\n",
            "+--------------------------------+----------+-----------+--------+-------------+\n",
            "|          Decison tree          |  0.8537  |   0.8564  | 0.8537 |    0.8536   |\n",
            "|         KNN Classifier         |  0.9907  |   0.9908  | 0.9907 |    0.9907   |\n",
            "| Logistic Regression Classifier |  0.9685  |   0.9688  | 0.9685 |    0.9684   |\n",
            "|  SVM Linear Kernel Classifier  |  0.9815  |   0.9816  | 0.9815 |    0.9815   |\n",
            "|   SVM RBF Kernel Classifier    |  0.9852  |   0.9855  | 0.9852 |    0.9852   |\n",
            "+--------------------------------+----------+-----------+--------+-------------+\n"
          ]
        }
      ]
    },
    {
      "cell_type": "markdown",
      "source": [
        "#Task 4. \n",
        "Compare the performance of selected classification algorithms (Decision Tree, kNN, Logistic Regression) and SVM (using different kernels) with **credit card dataset** based on accuracy, precision, recall, f1 measures.\n",
        "\n",
        "*   Give some comments on the obtained results\n",
        "*   Identify issues with dataset, and propose the solutions to these issues\n",
        "\n"
      ],
      "metadata": {
        "id": "Z5pp7_h-aP2u"
      }
    },
    {
      "cell_type": "code",
      "source": [
        "# code\n",
        "ds4 = pd.read_csv('creditcard.csv')\n",
        "\n",
        "df_extracted = ds4.sample(frac=0.5, random_state=42)\n",
        "X = df_extracted.iloc[:, :-1].values\n",
        "y = df_extracted['Class']\n",
        "X_train, X_test, y_train, y_test = train_test_split(X, y, test_size = 0.3, random_state = 1)\n",
        "\n",
        "#Classification algorithms \n",
        "#Decison tree\n",
        "dtc = DecisionTreeClassifier()\n",
        "dtc.fit(X_train, y_train)\n",
        "ydtc_pred = dtc.predict(X_test)\n",
        "\n",
        "#kNN\n",
        "knn = KNeighborsClassifier(n_neighbors=5)\n",
        "knn.fit(X_train, y_train)\n",
        "yknn_pred = knn.predict(X_test)\n",
        "\n",
        "#Logicstic\n",
        "lr = LogisticRegression(random_state=0)\n",
        "lr.fit(X_train, y_train)\n",
        "ylr_pred = lr.predict(X_test)\n",
        "\n",
        "# Create a SVM classifier with linear kernel\n",
        "svm_linear = svm.SVC(kernel='linear')\n",
        "svm_linear.fit(X_train, y_train)\n",
        "ylinear_pred = svm_linear.predict(X_test)\n",
        "\n",
        "# Create a SVM classifier with RBF kernel\n",
        "svm_rbf = svm.SVC(kernel='rbf')\n",
        "svm_rbf.fit(X_train, y_train)\n",
        "yrbf_pred = svm_rbf.predict(X_test)\n",
        "\n",
        "#\n",
        "t4 = PrettyTable(['Classification algorithms','Accuracy', 'Precision', 'Recall', 'f1 measures'])\n",
        "t4.add_row(['Decison tree',round(accuracy_score(y_test, ydtc_pred),4), round(precision_score(y_test, ydtc_pred, average='weighted'),4), round( recall_score(y_test, ydtc_pred, average='weighted'),4), round(f1_score(y_test, ydtc_pred, average='weighted'),4)])\n",
        "t4.add_row(['KNN Classifier',round(accuracy_score(y_test, yknn_pred),4), round(precision_score(y_test, yknn_pred, average='weighted'),4), round( recall_score(y_test, yknn_pred, average='weighted'),4), round(f1_score(y_test, yknn_pred, average='weighted'),4)])\n",
        "t4.add_row(['Logistic Regression Classifier',round(accuracy_score(y_test, ylr_pred),4), round(precision_score(y_test, ylr_pred, average='weighted'),4), round( recall_score(y_test, ylr_pred, average='weighted'),4), round(f1_score(y_test, ylr_pred, average='weighted'),4)])\n",
        "t4.add_row(['SVM Linear Kernel Classifier',round(accuracy_score(y_test, ylinear_pred),4), round(precision_score(y_test, ylinear_pred, average='weighted'),4), round( recall_score(y_test, ylinear_pred, average='weighted'),4), round(f1_score(y_test, ylinear_pred, average='weighted'),4)])\n",
        "t4.add_row(['SVM RBF Kernel Classifier',round(accuracy_score(y_test, yrbf_pred),4), round(precision_score(y_test, yrbf_pred, average='weighted'),4), round( recall_score(y_test, yrbf_pred, average='weighted'),4), round(f1_score(y_test, yrbf_pred, average='weighted'),4)])\n",
        "print(t4)"
      ],
      "metadata": {
        "id": "Rw_-8FIf2KxW",
        "colab": {
          "base_uri": "https://localhost:8080/"
        },
        "outputId": "2a6499b7-a10d-4519-8702-ad0a90736169"
      },
      "execution_count": 59,
      "outputs": [
        {
          "output_type": "stream",
          "name": "stderr",
          "text": [
            "/usr/local/lib/python3.9/dist-packages/sklearn/linear_model/_logistic.py:458: ConvergenceWarning: lbfgs failed to converge (status=1):\n",
            "STOP: TOTAL NO. of ITERATIONS REACHED LIMIT.\n",
            "\n",
            "Increase the number of iterations (max_iter) or scale the data as shown in:\n",
            "    https://scikit-learn.org/stable/modules/preprocessing.html\n",
            "Please also refer to the documentation for alternative solver options:\n",
            "    https://scikit-learn.org/stable/modules/linear_model.html#logistic-regression\n",
            "  n_iter_i = _check_optimize_result(\n"
          ]
        },
        {
          "output_type": "stream",
          "name": "stdout",
          "text": [
            "+--------------------------------+----------+-----------+--------+-------------+\n",
            "|   Classification algorithms    | Accuracy | Precision | Recall | f1 measures |\n",
            "+--------------------------------+----------+-----------+--------+-------------+\n",
            "|          Decison tree          |  0.9991  |   0.9992  | 0.9991 |    0.9992   |\n",
            "|         KNN Classifier         |  0.9986  |   0.9982  | 0.9986 |    0.998    |\n",
            "| Logistic Regression Classifier |  0.999   |   0.999   | 0.999  |    0.999    |\n",
            "|  SVM Linear Kernel Classifier  |  0.9987  |   0.9984  | 0.9987 |    0.9985   |\n",
            "|   SVM RBF Kernel Classifier    |  0.9985  |   0.997   | 0.9985 |    0.9977   |\n",
            "+--------------------------------+----------+-----------+--------+-------------+\n"
          ]
        },
        {
          "output_type": "stream",
          "name": "stderr",
          "text": [
            "/usr/local/lib/python3.9/dist-packages/sklearn/metrics/_classification.py:1344: UndefinedMetricWarning: Precision is ill-defined and being set to 0.0 in labels with no predicted samples. Use `zero_division` parameter to control this behavior.\n",
            "  _warn_prf(average, modifier, msg_start, len(result))\n"
          ]
        }
      ]
    },
    {
      "cell_type": "markdown",
      "source": [
        "#Finally,\n",
        "Save a copy in your Github. Remember renaming the notebook."
      ],
      "metadata": {
        "id": "Ok7RGkea_b7n"
      }
    }
  ]
}